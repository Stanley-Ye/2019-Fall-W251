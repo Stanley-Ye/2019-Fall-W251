{
 "cells": [
  {
   "cell_type": "markdown",
   "metadata": {},
   "source": [
    "References :    \n",
    "    [rxrx.ai](http://rxrx.ai)    \n",
    "    https://www.kaggle.com/jesucristo/quick-visualization-eda    "
   ]
  },
  {
   "cell_type": "markdown",
   "metadata": {},
   "source": [
    "# <span style=\"font-family:Papyrus; font-size:2em;\">Recursion Cellular Image Classification</span>\n",
    "# <span style=\"font-family:Papyrus; font-size:1em;\">CellSignal: Disentangling biological signal from experimental noise in cellular images</span>\n",
    "\n",
    "![](https://assets.website-files.com/5cb63fe47eb5472014c3dae6/5d040176f0a2fd66df939c51_figure1%400.75x.png)"
   ]
  },
  {
   "cell_type": "markdown",
   "metadata": {},
   "source": [
    "# <span style=\"font-family:Papyrus; font-size:1em;\">Experiment Structure</span>\n",
    "\n",
    "![](https://assets.website-files.com/5cb63fe47eb5472014c3dae6/5d03fe719710ab238b5b41b3_384%20Well%402x.png)"
   ]
  },
  {
   "cell_type": "markdown",
   "metadata": {},
   "source": [
    "\n",
    "\n",
    "\n",
    "# <span style=\"font-family:Papyrus; font-size:1em;\">Images of two different genetic conditions (rows) in HUVEC cells across four experimental batches (columns)</span>\n",
    "\n",
    "![](https://assets.website-files.com/5cb63fe47eb5472014c3dae6/5d040176beb559547adf9464_figure1.png)"
   ]
  },
  {
   "cell_type": "markdown",
   "metadata": {},
   "source": [
    "# <span style=\"font-family:Papyrus; font-size:1em;\">Each well site has 6-channel fluorescent microscopy images</span>\n",
    "\n",
    "![](https://www.kaggleusercontent.com/kf/16548690/eyJhbGciOiJkaXIiLCJlbmMiOiJBMTI4Q0JDLUhTMjU2In0..UnqOr4CpUjW-5miqdOOSVw.gLsqtIjKR6KozOuYs83v1M_6M5mb1gqwC03CSn9-OAfOEXV6ernPyuMqXpnM6r-M_0iIfIqFU4PWG-Lze_0vfHAMuuQL-MuHdd3ULQNL0Cx7pHR-inpJOaK2XPQ1tJm7VYQhfW4YVdEZrua9S4YLLA.NRRRexPYHU8k3wmAsr1MVQ/__results___files/__results___10_0.png)"
   ]
  },
  {
   "cell_type": "markdown",
   "metadata": {},
   "source": [
    "![](https://www.researchgate.net/profile/Anne_Carpenter/publication/281820875/figure/fig1/AS:324710484201472@1454428420318/Cell-Painting-assay-U2OS-cells-prepared-for-this-study-were-stained-using-the-Cell.png)"
   ]
  },
  {
   "cell_type": "markdown",
   "metadata": {},
   "source": [
    "## Let us begin!!"
   ]
  },
  {
   "cell_type": "code",
   "execution_count": 1,
   "metadata": {},
   "outputs": [],
   "source": [
    "import os, sys\n",
    "import random\n",
    "import numpy as np \n",
    "import pandas as pd\n",
    "\n",
    "from PIL import Image\n",
    "from PIL import Image\n",
    "\n",
    "from datetime import datetime\n",
    "import torch\n",
    "import torch.nn as nn\n",
    "import torch.utils.data as D\n",
    "import torch.nn.functional as F\n",
    "\n",
    "import torchvision\n",
    "from torchvision import transforms as T\n",
    "\n",
    "import tqdm\n",
    "\n",
    "import warnings\n",
    "warnings.filterwarnings('ignore')"
   ]
  },
  {
   "cell_type": "code",
   "execution_count": 2,
   "metadata": {},
   "outputs": [],
   "source": [
    "path_data=\"/data/kaggle/recursion-cellular-image-classification\""
   ]
  },
  {
   "cell_type": "markdown",
   "metadata": {},
   "source": [
    "## View the file structure"
   ]
  },
  {
   "cell_type": "code",
   "execution_count": 3,
   "metadata": {},
   "outputs": [
    {
     "name": "stdout",
     "output_type": "stream",
     "text": [
      "total 16G\r\n",
      "----------  1 root root 1.2M Jun 26 13:01 train.csv\r\n",
      "----------  1 root root  57M Jun 26 13:01 pixel_stats.csv\r\n",
      "-rw-r--r--  1 root root  18M Sep 29 05:22 pixel_stats.csv.zip\r\n",
      "-rw-r--r--  1 root root 359K Sep 29 05:22 sample_submission.csv\r\n",
      "-rw-r--r--  1 root root 562K Sep 29 05:22 test.csv\r\n",
      "-rw-r--r--  1 root root 112K Sep 29 05:22 test_controls.csv\r\n",
      "-rw-r--r--  1 root root 236K Sep 29 05:22 train.csv.zip\r\n",
      "-rw-r--r--  1 root root 204K Sep 29 05:22 train_controls.csv\r\n",
      "-rw-r--r--  1 root root  35K Sep 29 05:22 recursion_dataset_license.pdf\r\n",
      "-rw-r--r--  1 root root  16G Sep 29 05:25 test.zip\r\n",
      "drwxr-xr-x  3 root root 4.0K Sep 29 05:32 ..\r\n",
      "drwxrwxrwx  3 root root 4.0K Sep 29 05:36 .\r\n",
      "drwxr-xr-x 35 root root 4.0K Sep 29 05:36 train\r\n"
     ]
    }
   ],
   "source": [
    "! ls -lahtr $path_data"
   ]
  },
  {
   "cell_type": "markdown",
   "metadata": {},
   "source": [
    "## Load our files"
   ]
  },
  {
   "cell_type": "code",
   "execution_count": 4,
   "metadata": {},
   "outputs": [],
   "source": [
    "batch_size = 64"
   ]
  },
  {
   "cell_type": "code",
   "execution_count": 5,
   "metadata": {},
   "outputs": [],
   "source": [
    "# path_data = '../input/recursion-cellular-image-classification/'\n",
    "trnalldf = pd.read_csv(os.path.join(path_data, 'train.csv'))\n",
    "tstdf = pd.read_csv(os.path.join(path_data, 'test.csv'))\n",
    "statsdf = pd.read_csv(os.path.join(path_data, 'pixel_stats.csv'))"
   ]
  },
  {
   "cell_type": "markdown",
   "metadata": {},
   "source": [
    "## Now lets view the file contents"
   ]
  },
  {
   "cell_type": "code",
   "execution_count": 6,
   "metadata": {},
   "outputs": [
    {
     "data": {
      "text/plain": [
       "id_code       HEPG2-01_1_B03\n",
       "experiment          HEPG2-01\n",
       "plate                      1\n",
       "well                     B03\n",
       "sirna                    513\n",
       "Name: 0, dtype: object"
      ]
     },
     "execution_count": 6,
     "metadata": {},
     "output_type": "execute_result"
    }
   ],
   "source": [
    "trnalldf.iloc[0]"
   ]
  },
  {
   "cell_type": "code",
   "execution_count": 7,
   "metadata": {},
   "outputs": [
    {
     "data": {
      "text/plain": [
       "HEPG2-08    1107\n",
       "HEPG2-09    1108\n",
       "HEPG2-10    1108\n",
       "HEPG2-11    1106\n",
       "HUVEC-17    1108\n",
       "HUVEC-18    1107\n",
       "HUVEC-19    1108\n",
       "HUVEC-20    1108\n",
       "HUVEC-21    1108\n",
       "HUVEC-22    1108\n",
       "HUVEC-23    1099\n",
       "HUVEC-24    1100\n",
       "RPE-08      1108\n",
       "RPE-09      1107\n",
       "RPE-10      1108\n",
       "RPE-11      1094\n",
       "U2OS-04     1108\n",
       "U2OS-05     1097\n",
       "Name: experiment, dtype: int64"
      ]
     },
     "execution_count": 7,
     "metadata": {},
     "output_type": "execute_result"
    }
   ],
   "source": [
    "# lets look at the samples per per experiments\n",
    "tstdf.experiment.value_counts().sort_index()"
   ]
  },
  {
   "cell_type": "code",
   "execution_count": 8,
   "metadata": {},
   "outputs": [],
   "source": [
    "# Lets take the first 3 experiments as train, and the next 4 as val\n",
    "valdf = trnalldf[trnalldf.experiment.str.contains('01')]\n",
    "trndf = trnalldf[trnalldf.experiment.str.contains('02|03|04|05|06|07')]"
   ]
  },
  {
   "cell_type": "code",
   "execution_count": 9,
   "metadata": {},
   "outputs": [
    {
     "name": "stdout",
     "output_type": "stream",
     "text": [
      "Train frame shape : rows 22151 cols 5\n",
      "Val frame shape : rows 4430 cols 5\n",
      "Test frame shape : rows 19897 cols 4\n"
     ]
    }
   ],
   "source": [
    "print('Train frame shape : rows {} cols {}'.format(*trndf.shape))\n",
    "print('Val frame shape : rows {} cols {}'.format(*valdf.shape))\n",
    "print('Test frame shape : rows {} cols {}'.format(*tstdf.shape))"
   ]
  },
  {
   "cell_type": "markdown",
   "metadata": {},
   "source": [
    "## Let's look at experiment batch impact"
   ]
  },
  {
   "cell_type": "code",
   "execution_count": 10,
   "metadata": {},
   "outputs": [
    {
     "data": {
      "text/plain": [
       "id_code       HEPG2-01_1_B02\n",
       "experiment          HEPG2-01\n",
       "plate                      1\n",
       "well                     B02\n",
       "site                       1\n",
       "channel                    1\n",
       "mean                 71.0638\n",
       "std                  43.1462\n",
       "median                    67\n",
       "min                        7\n",
       "max                      255\n",
       "Name: 0, dtype: object"
      ]
     },
     "execution_count": 10,
     "metadata": {},
     "output_type": "execute_result"
    }
   ],
   "source": [
    "statsdf.iloc[0]"
   ]
  },
  {
   "cell_type": "code",
   "execution_count": 11,
   "metadata": {},
   "outputs": [
    {
     "data": {
      "text/html": [
       "<div>\n",
       "<style scoped>\n",
       "    .dataframe tbody tr th:only-of-type {\n",
       "        vertical-align: middle;\n",
       "    }\n",
       "\n",
       "    .dataframe tbody tr th {\n",
       "        vertical-align: top;\n",
       "    }\n",
       "\n",
       "    .dataframe thead th {\n",
       "        text-align: right;\n",
       "    }\n",
       "</style>\n",
       "<table border=\"1\" class=\"dataframe\">\n",
       "  <thead>\n",
       "    <tr style=\"text-align: right;\">\n",
       "      <th>channel</th>\n",
       "      <th>1</th>\n",
       "      <th>2</th>\n",
       "      <th>3</th>\n",
       "      <th>4</th>\n",
       "      <th>5</th>\n",
       "      <th>6</th>\n",
       "    </tr>\n",
       "    <tr>\n",
       "      <th>experiment</th>\n",
       "      <th></th>\n",
       "      <th></th>\n",
       "      <th></th>\n",
       "      <th></th>\n",
       "      <th></th>\n",
       "      <th></th>\n",
       "    </tr>\n",
       "  </thead>\n",
       "  <tbody>\n",
       "    <tr>\n",
       "      <th>HEPG2-01</th>\n",
       "      <td>37.947925</td>\n",
       "      <td>26.399949</td>\n",
       "      <td>34.723836</td>\n",
       "      <td>40.014089</td>\n",
       "      <td>43.965592</td>\n",
       "      <td>30.804353</td>\n",
       "    </tr>\n",
       "    <tr>\n",
       "      <th>HEPG2-02</th>\n",
       "      <td>33.405073</td>\n",
       "      <td>27.128854</td>\n",
       "      <td>29.582297</td>\n",
       "      <td>46.010937</td>\n",
       "      <td>32.501942</td>\n",
       "      <td>31.144117</td>\n",
       "    </tr>\n",
       "    <tr>\n",
       "      <th>HUVEC-01</th>\n",
       "      <td>4.123238</td>\n",
       "      <td>19.956227</td>\n",
       "      <td>10.233502</td>\n",
       "      <td>10.657920</td>\n",
       "      <td>2.326737</td>\n",
       "      <td>12.136189</td>\n",
       "    </tr>\n",
       "    <tr>\n",
       "      <th>HUVEC-02</th>\n",
       "      <td>4.448384</td>\n",
       "      <td>20.802760</td>\n",
       "      <td>8.897859</td>\n",
       "      <td>10.869585</td>\n",
       "      <td>2.442969</td>\n",
       "      <td>11.343739</td>\n",
       "    </tr>\n",
       "    <tr>\n",
       "      <th>RPE-01</th>\n",
       "      <td>3.618764</td>\n",
       "      <td>10.956121</td>\n",
       "      <td>16.646254</td>\n",
       "      <td>7.829697</td>\n",
       "      <td>3.690766</td>\n",
       "      <td>13.503024</td>\n",
       "    </tr>\n",
       "    <tr>\n",
       "      <th>RPE-02</th>\n",
       "      <td>2.978969</td>\n",
       "      <td>8.812340</td>\n",
       "      <td>14.565686</td>\n",
       "      <td>6.347397</td>\n",
       "      <td>3.799188</td>\n",
       "      <td>12.526606</td>\n",
       "    </tr>\n",
       "    <tr>\n",
       "      <th>U2OS-01</th>\n",
       "      <td>7.537577</td>\n",
       "      <td>10.093597</td>\n",
       "      <td>10.044440</td>\n",
       "      <td>7.385857</td>\n",
       "      <td>3.014662</td>\n",
       "      <td>13.574783</td>\n",
       "    </tr>\n",
       "    <tr>\n",
       "      <th>U2OS-02</th>\n",
       "      <td>11.160868</td>\n",
       "      <td>12.521636</td>\n",
       "      <td>12.274936</td>\n",
       "      <td>10.068334</td>\n",
       "      <td>3.290966</td>\n",
       "      <td>16.674154</td>\n",
       "    </tr>\n",
       "  </tbody>\n",
       "</table>\n",
       "</div>"
      ],
      "text/plain": [
       "channel             1          2          3          4          5          6\n",
       "experiment                                                                  \n",
       "HEPG2-01    37.947925  26.399949  34.723836  40.014089  43.965592  30.804353\n",
       "HEPG2-02    33.405073  27.128854  29.582297  46.010937  32.501942  31.144117\n",
       "HUVEC-01     4.123238  19.956227  10.233502  10.657920   2.326737  12.136189\n",
       "HUVEC-02     4.448384  20.802760   8.897859  10.869585   2.442969  11.343739\n",
       "RPE-01       3.618764  10.956121  16.646254   7.829697   3.690766  13.503024\n",
       "RPE-02       2.978969   8.812340  14.565686   6.347397   3.799188  12.526606\n",
       "U2OS-01      7.537577  10.093597  10.044440   7.385857   3.014662  13.574783\n",
       "U2OS-02     11.160868  12.521636  12.274936  10.068334   3.290966  16.674154"
      ]
     },
     "execution_count": 11,
     "metadata": {},
     "output_type": "execute_result"
    }
   ],
   "source": [
    "meanexpdf = statsdf.groupby(['experiment', 'channel'])['mean'].mean().unstack()\n",
    "stdexpdf = statsdf.groupby(['experiment', 'channel'])['mean'].mean().unstack()\n",
    "meanexpdf[meanexpdf.index.str.contains('01|02')]"
   ]
  },
  {
   "cell_type": "code",
   "execution_count": 12,
   "metadata": {},
   "outputs": [
    {
     "data": {
      "text/plain": [
       "array([37.94792521, 26.39994873, 34.72383564, 40.0140892 , 43.96559181,\n",
       "       30.80435258])"
      ]
     },
     "execution_count": 12,
     "metadata": {},
     "output_type": "execute_result"
    }
   ],
   "source": [
    "# We can see large differences by  \n",
    "meanexpdf.loc['HEPG2-01'].values"
   ]
  },
  {
   "cell_type": "markdown",
   "metadata": {},
   "source": [
    "## We will bring in some augmentations from Albumentations - check it out"
   ]
  },
  {
   "cell_type": "markdown",
   "metadata": {},
   "source": [
    "# <span style=\"font-family:Papyrus; font-size:1em;\">Albumentations</span>\n",
    "\n",
    "![](https://camo.githubusercontent.com/041633dc5d522d6cf583a81d4a1d85be87f44155/68747470733a2f2f686162726173746f726167652e6f72672f776562742f652d2f366b2f7a2d2f652d366b7a2d66756770326865616b336a7a6e733362632d72386f2e6a706567)"
   ]
  },
  {
   "cell_type": "code",
   "execution_count": 13,
   "metadata": {},
   "outputs": [],
   "source": [
    "from albumentations import (Cutout, Compose, Normalize, RandomRotate90, HorizontalFlip,\n",
    "                           VerticalFlip, ShiftScaleRotate, Transpose, OneOf, IAAAdditiveGaussianNoise,\n",
    "                           GaussNoise, RandomGamma, RandomContrast, RandomBrightness, HueSaturationValue,\n",
    "                           RandomCrop, Lambda, NoOp, CenterCrop, Resize)"
   ]
  },
  {
   "cell_type": "code",
   "execution_count": 14,
   "metadata": {},
   "outputs": [],
   "source": [
    "def aug(p=1.):\n",
    "    return Compose([\n",
    "        RandomRotate90(),\n",
    "        HorizontalFlip(),\n",
    "        VerticalFlip(),\n",
    "        Transpose(),\n",
    "        NoOp(),\n",
    "    ], p=p)"
   ]
  },
  {
   "cell_type": "markdown",
   "metadata": {},
   "source": [
    "## Data loader - we make a class and use torch loader"
   ]
  },
  {
   "cell_type": "code",
   "execution_count": 15,
   "metadata": {},
   "outputs": [],
   "source": [
    "class ImagesDS(D.Dataset):\n",
    "    def __init__(self, df, img_dir, size = 256, mode='train', meandf = meanexpdf, stddf = stdexpdf, channels=[1,2,3,4,5,6]):\n",
    "        \n",
    "        self.records = df.to_records(index=False)\n",
    "        self.channels = channels\n",
    "        self.site = random.randint(1,2) # load a random site from each well.\n",
    "        self.mode = mode\n",
    "        self.meandf = meanexpdf\n",
    "        self.stddf = stdexpdf\n",
    "        self.img_dir = img_dir\n",
    "        self.len = df.shape[0]\n",
    "        self.size = size\n",
    "        self.augtransform = aug()\n",
    "        \n",
    "    @staticmethod\n",
    "    def _load_img_as_tensor(file_name, size):\n",
    "        with Image.open(file_name) as img:\n",
    "            img = img.resize((size, size), resample=Image.BICUBIC)\n",
    "            return img\n",
    "        \n",
    "    @staticmethod\n",
    "    def torch_augment(img, transform, mean_, sd_):\n",
    "        img = img.astype(np.float32)\n",
    "        img = transform(image = img)['image']\n",
    "        img = torch.from_numpy(np.moveaxis(img, -1, 0).astype(np.float32))\n",
    "        img = T.Normalize([*list(mean_)], [*list(sd_)])(img)\n",
    "        return img  \n",
    "\n",
    "    def _get_img_path(self, index, channel):\n",
    "        experiment, well, plate = self.records[index].experiment, self.records[index].well, self.records[index].plate\n",
    "        return '/'.join([self.img_dir,self.mode,experiment,f'Plate{plate}',f'{well}_s{self.site}_w{channel}.png'])\n",
    "        \n",
    "    def __getitem__(self, index):\n",
    "        paths = [self._get_img_path(index, ch) for ch in self.channels]\n",
    "        \n",
    "        # Normalise values\n",
    "        meanvals = self.meandf.loc[self.records[index].experiment].values\n",
    "        stdvals = self.stddf.loc[self.records[index].experiment].values\n",
    "        \n",
    "        # Load image\n",
    "        img = np.stack([self._load_img_as_tensor(img_path, self.size) for (img_path, m, s) in zip(paths, meanvals, stdvals)], -1)\n",
    "        img = self.torch_augment(img, self.augtransform, meanvals, stdvals)      \n",
    "        \n",
    "        if self.mode == 'train':\n",
    "            return img, self.records[index].sirna\n",
    "        else:\n",
    "            return img, self.records[index].id_code\n",
    "\n",
    "    def __len__(self):\n",
    "        \"\"\"\n",
    "        Total number of samples in the dataset\n",
    "        \"\"\"\n",
    "        return self.len"
   ]
  },
  {
   "cell_type": "code",
   "execution_count": 16,
   "metadata": {},
   "outputs": [],
   "source": [
    "trnloader = D.DataLoader(ImagesDS(trndf, path_data, mode='train'), batch_size=batch_size, shuffle=True, num_workers=8)\n",
    "valloader = D.DataLoader(ImagesDS(valdf, path_data, mode='train'), batch_size=batch_size*4, shuffle=False, num_workers=8)\n",
    "tstloader = D.DataLoader(ImagesDS(tstdf, path_data, mode='test'), batch_size=batch_size*4, shuffle=False, num_workers=8)"
   ]
  },
  {
   "cell_type": "code",
   "execution_count": 17,
   "metadata": {},
   "outputs": [],
   "source": [
    "X,y = next(iter(trnloader))"
   ]
  },
  {
   "cell_type": "code",
   "execution_count": 18,
   "metadata": {},
   "outputs": [
    {
     "data": {
      "text/plain": [
       "(tensor(0.0181), tensor(1.0445))"
      ]
     },
     "execution_count": 18,
     "metadata": {},
     "output_type": "execute_result"
    }
   ],
   "source": [
    "X.mean(), X.std()"
   ]
  },
  {
   "cell_type": "code",
   "execution_count": 19,
   "metadata": {},
   "outputs": [
    {
     "name": "stdout",
     "output_type": "stream",
     "text": [
      "Batch Shape : torch.Size([64, 6, 256, 256])\n",
      "Label Shape : torch.Size([64])\n"
     ]
    }
   ],
   "source": [
    "print('Batch Shape : {}'.format(X.shape))\n",
    "print('Label Shape : {}'.format(y.shape))"
   ]
  },
  {
   "cell_type": "markdown",
   "metadata": {},
   "source": [
    "## Let's set up our model..."
   ]
  },
  {
   "cell_type": "markdown",
   "metadata": {},
   "source": [
    "\n",
    "\n",
    "# <span style=\"font-family:Papyrus; font-size:1em;\">Densenet121</span>\n",
    "\n",
    "![](https://d3i71xaburhd42.cloudfront.net/501d99e392783e4acafb220136d32ea68a921282/1-Figure1-1.png)"
   ]
  },
  {
   "cell_type": "code",
   "execution_count": 20,
   "metadata": {},
   "outputs": [],
   "source": [
    "class DenseNet(nn.Module):\n",
    "    def __init__(self, num_classes=1000, num_channels=6):\n",
    "        super().__init__()\n",
    "        preloaded = torchvision.models.densenet121(pretrained=True)\n",
    "        self.features = preloaded.features\n",
    "        self.features.conv0 = nn.Conv2d(num_channels, 64, 7, 2, 3)\n",
    "        self.classifier = nn.Linear(1024, num_classes, bias=True)\n",
    "        del preloaded\n",
    "        \n",
    "    def forward(self, x, emb=False):\n",
    "        features = self.features(x)\n",
    "        out = F.relu(features, inplace=True)\n",
    "        out = F.adaptive_avg_pool2d(out, (1, 1)).view(features.size(0), -1)\n",
    "        if emb:\n",
    "            return out\n",
    "        out = self.classifier(out)\n",
    "        return out"
   ]
  },
  {
   "cell_type": "code",
   "execution_count": 21,
   "metadata": {},
   "outputs": [
    {
     "name": "stderr",
     "output_type": "stream",
     "text": [
      "Downloading: \"https://download.pytorch.org/models/densenet121-a639ec97.pth\" to /root/.cache/torch/checkpoints/densenet121-a639ec97.pth\n",
      "100%|██████████| 30.8M/30.8M [00:00<00:00, 39.4MB/s]\n"
     ]
    },
    {
     "data": {
      "text/plain": [
       "DenseNet(\n",
       "  (features): Sequential(\n",
       "    (conv0): Conv2d(6, 64, kernel_size=(7, 7), stride=(2, 2), padding=(3, 3))\n",
       "    (norm0): BatchNorm2d(64, eps=1e-05, momentum=0.1, affine=True, track_running_stats=True)\n",
       "    (relu0): ReLU(inplace=True)\n",
       "    (pool0): MaxPool2d(kernel_size=3, stride=2, padding=1, dilation=1, ceil_mode=False)\n",
       "    (denseblock1): _DenseBlock(\n",
       "      (denselayer1): _DenseLayer(\n",
       "        (norm1): BatchNorm2d(64, eps=1e-05, momentum=0.1, affine=True, track_running_stats=True)\n",
       "        (relu1): ReLU(inplace=True)\n",
       "        (conv1): Conv2d(64, 128, kernel_size=(1, 1), stride=(1, 1), bias=False)\n",
       "        (norm2): BatchNorm2d(128, eps=1e-05, momentum=0.1, affine=True, track_running_stats=True)\n",
       "        (relu2): ReLU(inplace=True)\n",
       "        (conv2): Conv2d(128, 32, kernel_size=(3, 3), stride=(1, 1), padding=(1, 1), bias=False)\n",
       "      )\n",
       "      (denselayer2): _DenseLayer(\n",
       "        (norm1): BatchNorm2d(96, eps=1e-05, momentum=0.1, affine=True, track_running_stats=True)\n",
       "        (relu1): ReLU(inplace=True)\n",
       "        (conv1): Conv2d(96, 128, kernel_size=(1, 1), stride=(1, 1), bias=False)\n",
       "        (norm2): BatchNorm2d(128, eps=1e-05, momentum=0.1, affine=True, track_running_stats=True)\n",
       "        (relu2): ReLU(inplace=True)\n",
       "        (conv2): Conv2d(128, 32, kernel_size=(3, 3), stride=(1, 1), padding=(1, 1), bias=False)\n",
       "      )\n",
       "      (denselayer3): _DenseLayer(\n",
       "        (norm1): BatchNorm2d(128, eps=1e-05, momentum=0.1, affine=True, track_running_stats=True)\n",
       "        (relu1): ReLU(inplace=True)\n",
       "        (conv1): Conv2d(128, 128, kernel_size=(1, 1), stride=(1, 1), bias=False)\n",
       "        (norm2): BatchNorm2d(128, eps=1e-05, momentum=0.1, affine=True, track_running_stats=True)\n",
       "        (relu2): ReLU(inplace=True)\n",
       "        (conv2): Conv2d(128, 32, kernel_size=(3, 3), stride=(1, 1), padding=(1, 1), bias=False)\n",
       "      )\n",
       "      (denselayer4): _DenseLayer(\n",
       "        (norm1): BatchNorm2d(160, eps=1e-05, momentum=0.1, affine=True, track_running_stats=True)\n",
       "        (relu1): ReLU(inplace=True)\n",
       "        (conv1): Conv2d(160, 128, kernel_size=(1, 1), stride=(1, 1), bias=False)\n",
       "        (norm2): BatchNorm2d(128, eps=1e-05, momentum=0.1, affine=True, track_running_stats=True)\n",
       "        (relu2): ReLU(inplace=True)\n",
       "        (conv2): Conv2d(128, 32, kernel_size=(3, 3), stride=(1, 1), padding=(1, 1), bias=False)\n",
       "      )\n",
       "      (denselayer5): _DenseLayer(\n",
       "        (norm1): BatchNorm2d(192, eps=1e-05, momentum=0.1, affine=True, track_running_stats=True)\n",
       "        (relu1): ReLU(inplace=True)\n",
       "        (conv1): Conv2d(192, 128, kernel_size=(1, 1), stride=(1, 1), bias=False)\n",
       "        (norm2): BatchNorm2d(128, eps=1e-05, momentum=0.1, affine=True, track_running_stats=True)\n",
       "        (relu2): ReLU(inplace=True)\n",
       "        (conv2): Conv2d(128, 32, kernel_size=(3, 3), stride=(1, 1), padding=(1, 1), bias=False)\n",
       "      )\n",
       "      (denselayer6): _DenseLayer(\n",
       "        (norm1): BatchNorm2d(224, eps=1e-05, momentum=0.1, affine=True, track_running_stats=True)\n",
       "        (relu1): ReLU(inplace=True)\n",
       "        (conv1): Conv2d(224, 128, kernel_size=(1, 1), stride=(1, 1), bias=False)\n",
       "        (norm2): BatchNorm2d(128, eps=1e-05, momentum=0.1, affine=True, track_running_stats=True)\n",
       "        (relu2): ReLU(inplace=True)\n",
       "        (conv2): Conv2d(128, 32, kernel_size=(3, 3), stride=(1, 1), padding=(1, 1), bias=False)\n",
       "      )\n",
       "    )\n",
       "    (transition1): _Transition(\n",
       "      (norm): BatchNorm2d(256, eps=1e-05, momentum=0.1, affine=True, track_running_stats=True)\n",
       "      (relu): ReLU(inplace=True)\n",
       "      (conv): Conv2d(256, 128, kernel_size=(1, 1), stride=(1, 1), bias=False)\n",
       "      (pool): AvgPool2d(kernel_size=2, stride=2, padding=0)\n",
       "    )\n",
       "    (denseblock2): _DenseBlock(\n",
       "      (denselayer1): _DenseLayer(\n",
       "        (norm1): BatchNorm2d(128, eps=1e-05, momentum=0.1, affine=True, track_running_stats=True)\n",
       "        (relu1): ReLU(inplace=True)\n",
       "        (conv1): Conv2d(128, 128, kernel_size=(1, 1), stride=(1, 1), bias=False)\n",
       "        (norm2): BatchNorm2d(128, eps=1e-05, momentum=0.1, affine=True, track_running_stats=True)\n",
       "        (relu2): ReLU(inplace=True)\n",
       "        (conv2): Conv2d(128, 32, kernel_size=(3, 3), stride=(1, 1), padding=(1, 1), bias=False)\n",
       "      )\n",
       "      (denselayer2): _DenseLayer(\n",
       "        (norm1): BatchNorm2d(160, eps=1e-05, momentum=0.1, affine=True, track_running_stats=True)\n",
       "        (relu1): ReLU(inplace=True)\n",
       "        (conv1): Conv2d(160, 128, kernel_size=(1, 1), stride=(1, 1), bias=False)\n",
       "        (norm2): BatchNorm2d(128, eps=1e-05, momentum=0.1, affine=True, track_running_stats=True)\n",
       "        (relu2): ReLU(inplace=True)\n",
       "        (conv2): Conv2d(128, 32, kernel_size=(3, 3), stride=(1, 1), padding=(1, 1), bias=False)\n",
       "      )\n",
       "      (denselayer3): _DenseLayer(\n",
       "        (norm1): BatchNorm2d(192, eps=1e-05, momentum=0.1, affine=True, track_running_stats=True)\n",
       "        (relu1): ReLU(inplace=True)\n",
       "        (conv1): Conv2d(192, 128, kernel_size=(1, 1), stride=(1, 1), bias=False)\n",
       "        (norm2): BatchNorm2d(128, eps=1e-05, momentum=0.1, affine=True, track_running_stats=True)\n",
       "        (relu2): ReLU(inplace=True)\n",
       "        (conv2): Conv2d(128, 32, kernel_size=(3, 3), stride=(1, 1), padding=(1, 1), bias=False)\n",
       "      )\n",
       "      (denselayer4): _DenseLayer(\n",
       "        (norm1): BatchNorm2d(224, eps=1e-05, momentum=0.1, affine=True, track_running_stats=True)\n",
       "        (relu1): ReLU(inplace=True)\n",
       "        (conv1): Conv2d(224, 128, kernel_size=(1, 1), stride=(1, 1), bias=False)\n",
       "        (norm2): BatchNorm2d(128, eps=1e-05, momentum=0.1, affine=True, track_running_stats=True)\n",
       "        (relu2): ReLU(inplace=True)\n",
       "        (conv2): Conv2d(128, 32, kernel_size=(3, 3), stride=(1, 1), padding=(1, 1), bias=False)\n",
       "      )\n",
       "      (denselayer5): _DenseLayer(\n",
       "        (norm1): BatchNorm2d(256, eps=1e-05, momentum=0.1, affine=True, track_running_stats=True)\n",
       "        (relu1): ReLU(inplace=True)\n",
       "        (conv1): Conv2d(256, 128, kernel_size=(1, 1), stride=(1, 1), bias=False)\n",
       "        (norm2): BatchNorm2d(128, eps=1e-05, momentum=0.1, affine=True, track_running_stats=True)\n",
       "        (relu2): ReLU(inplace=True)\n",
       "        (conv2): Conv2d(128, 32, kernel_size=(3, 3), stride=(1, 1), padding=(1, 1), bias=False)\n",
       "      )\n",
       "      (denselayer6): _DenseLayer(\n",
       "        (norm1): BatchNorm2d(288, eps=1e-05, momentum=0.1, affine=True, track_running_stats=True)\n",
       "        (relu1): ReLU(inplace=True)\n",
       "        (conv1): Conv2d(288, 128, kernel_size=(1, 1), stride=(1, 1), bias=False)\n",
       "        (norm2): BatchNorm2d(128, eps=1e-05, momentum=0.1, affine=True, track_running_stats=True)\n",
       "        (relu2): ReLU(inplace=True)\n",
       "        (conv2): Conv2d(128, 32, kernel_size=(3, 3), stride=(1, 1), padding=(1, 1), bias=False)\n",
       "      )\n",
       "      (denselayer7): _DenseLayer(\n",
       "        (norm1): BatchNorm2d(320, eps=1e-05, momentum=0.1, affine=True, track_running_stats=True)\n",
       "        (relu1): ReLU(inplace=True)\n",
       "        (conv1): Conv2d(320, 128, kernel_size=(1, 1), stride=(1, 1), bias=False)\n",
       "        (norm2): BatchNorm2d(128, eps=1e-05, momentum=0.1, affine=True, track_running_stats=True)\n",
       "        (relu2): ReLU(inplace=True)\n",
       "        (conv2): Conv2d(128, 32, kernel_size=(3, 3), stride=(1, 1), padding=(1, 1), bias=False)\n",
       "      )\n",
       "      (denselayer8): _DenseLayer(\n",
       "        (norm1): BatchNorm2d(352, eps=1e-05, momentum=0.1, affine=True, track_running_stats=True)\n",
       "        (relu1): ReLU(inplace=True)\n",
       "        (conv1): Conv2d(352, 128, kernel_size=(1, 1), stride=(1, 1), bias=False)\n",
       "        (norm2): BatchNorm2d(128, eps=1e-05, momentum=0.1, affine=True, track_running_stats=True)\n",
       "        (relu2): ReLU(inplace=True)\n",
       "        (conv2): Conv2d(128, 32, kernel_size=(3, 3), stride=(1, 1), padding=(1, 1), bias=False)\n",
       "      )\n",
       "      (denselayer9): _DenseLayer(\n",
       "        (norm1): BatchNorm2d(384, eps=1e-05, momentum=0.1, affine=True, track_running_stats=True)\n",
       "        (relu1): ReLU(inplace=True)\n",
       "        (conv1): Conv2d(384, 128, kernel_size=(1, 1), stride=(1, 1), bias=False)\n",
       "        (norm2): BatchNorm2d(128, eps=1e-05, momentum=0.1, affine=True, track_running_stats=True)\n",
       "        (relu2): ReLU(inplace=True)\n",
       "        (conv2): Conv2d(128, 32, kernel_size=(3, 3), stride=(1, 1), padding=(1, 1), bias=False)\n",
       "      )\n",
       "      (denselayer10): _DenseLayer(\n",
       "        (norm1): BatchNorm2d(416, eps=1e-05, momentum=0.1, affine=True, track_running_stats=True)\n",
       "        (relu1): ReLU(inplace=True)\n",
       "        (conv1): Conv2d(416, 128, kernel_size=(1, 1), stride=(1, 1), bias=False)\n",
       "        (norm2): BatchNorm2d(128, eps=1e-05, momentum=0.1, affine=True, track_running_stats=True)\n",
       "        (relu2): ReLU(inplace=True)\n",
       "        (conv2): Conv2d(128, 32, kernel_size=(3, 3), stride=(1, 1), padding=(1, 1), bias=False)\n",
       "      )\n",
       "      (denselayer11): _DenseLayer(\n",
       "        (norm1): BatchNorm2d(448, eps=1e-05, momentum=0.1, affine=True, track_running_stats=True)\n",
       "        (relu1): ReLU(inplace=True)\n",
       "        (conv1): Conv2d(448, 128, kernel_size=(1, 1), stride=(1, 1), bias=False)\n",
       "        (norm2): BatchNorm2d(128, eps=1e-05, momentum=0.1, affine=True, track_running_stats=True)\n",
       "        (relu2): ReLU(inplace=True)\n",
       "        (conv2): Conv2d(128, 32, kernel_size=(3, 3), stride=(1, 1), padding=(1, 1), bias=False)\n",
       "      )\n",
       "      (denselayer12): _DenseLayer(\n",
       "        (norm1): BatchNorm2d(480, eps=1e-05, momentum=0.1, affine=True, track_running_stats=True)\n",
       "        (relu1): ReLU(inplace=True)\n",
       "        (conv1): Conv2d(480, 128, kernel_size=(1, 1), stride=(1, 1), bias=False)\n",
       "        (norm2): BatchNorm2d(128, eps=1e-05, momentum=0.1, affine=True, track_running_stats=True)\n",
       "        (relu2): ReLU(inplace=True)\n",
       "        (conv2): Conv2d(128, 32, kernel_size=(3, 3), stride=(1, 1), padding=(1, 1), bias=False)\n",
       "      )\n",
       "    )\n",
       "    (transition2): _Transition(\n",
       "      (norm): BatchNorm2d(512, eps=1e-05, momentum=0.1, affine=True, track_running_stats=True)\n",
       "      (relu): ReLU(inplace=True)\n",
       "      (conv): Conv2d(512, 256, kernel_size=(1, 1), stride=(1, 1), bias=False)\n",
       "      (pool): AvgPool2d(kernel_size=2, stride=2, padding=0)\n",
       "    )\n",
       "    (denseblock3): _DenseBlock(\n",
       "      (denselayer1): _DenseLayer(\n",
       "        (norm1): BatchNorm2d(256, eps=1e-05, momentum=0.1, affine=True, track_running_stats=True)\n",
       "        (relu1): ReLU(inplace=True)\n",
       "        (conv1): Conv2d(256, 128, kernel_size=(1, 1), stride=(1, 1), bias=False)\n",
       "        (norm2): BatchNorm2d(128, eps=1e-05, momentum=0.1, affine=True, track_running_stats=True)\n",
       "        (relu2): ReLU(inplace=True)\n",
       "        (conv2): Conv2d(128, 32, kernel_size=(3, 3), stride=(1, 1), padding=(1, 1), bias=False)\n",
       "      )\n",
       "      (denselayer2): _DenseLayer(\n",
       "        (norm1): BatchNorm2d(288, eps=1e-05, momentum=0.1, affine=True, track_running_stats=True)\n",
       "        (relu1): ReLU(inplace=True)\n",
       "        (conv1): Conv2d(288, 128, kernel_size=(1, 1), stride=(1, 1), bias=False)\n",
       "        (norm2): BatchNorm2d(128, eps=1e-05, momentum=0.1, affine=True, track_running_stats=True)\n",
       "        (relu2): ReLU(inplace=True)\n",
       "        (conv2): Conv2d(128, 32, kernel_size=(3, 3), stride=(1, 1), padding=(1, 1), bias=False)\n",
       "      )\n",
       "      (denselayer3): _DenseLayer(\n",
       "        (norm1): BatchNorm2d(320, eps=1e-05, momentum=0.1, affine=True, track_running_stats=True)\n",
       "        (relu1): ReLU(inplace=True)\n",
       "        (conv1): Conv2d(320, 128, kernel_size=(1, 1), stride=(1, 1), bias=False)\n",
       "        (norm2): BatchNorm2d(128, eps=1e-05, momentum=0.1, affine=True, track_running_stats=True)\n",
       "        (relu2): ReLU(inplace=True)\n",
       "        (conv2): Conv2d(128, 32, kernel_size=(3, 3), stride=(1, 1), padding=(1, 1), bias=False)\n",
       "      )\n",
       "      (denselayer4): _DenseLayer(\n",
       "        (norm1): BatchNorm2d(352, eps=1e-05, momentum=0.1, affine=True, track_running_stats=True)\n",
       "        (relu1): ReLU(inplace=True)\n",
       "        (conv1): Conv2d(352, 128, kernel_size=(1, 1), stride=(1, 1), bias=False)\n",
       "        (norm2): BatchNorm2d(128, eps=1e-05, momentum=0.1, affine=True, track_running_stats=True)\n",
       "        (relu2): ReLU(inplace=True)\n",
       "        (conv2): Conv2d(128, 32, kernel_size=(3, 3), stride=(1, 1), padding=(1, 1), bias=False)\n",
       "      )\n",
       "      (denselayer5): _DenseLayer(\n",
       "        (norm1): BatchNorm2d(384, eps=1e-05, momentum=0.1, affine=True, track_running_stats=True)\n",
       "        (relu1): ReLU(inplace=True)\n",
       "        (conv1): Conv2d(384, 128, kernel_size=(1, 1), stride=(1, 1), bias=False)\n",
       "        (norm2): BatchNorm2d(128, eps=1e-05, momentum=0.1, affine=True, track_running_stats=True)\n",
       "        (relu2): ReLU(inplace=True)\n",
       "        (conv2): Conv2d(128, 32, kernel_size=(3, 3), stride=(1, 1), padding=(1, 1), bias=False)\n",
       "      )\n",
       "      (denselayer6): _DenseLayer(\n",
       "        (norm1): BatchNorm2d(416, eps=1e-05, momentum=0.1, affine=True, track_running_stats=True)\n",
       "        (relu1): ReLU(inplace=True)\n",
       "        (conv1): Conv2d(416, 128, kernel_size=(1, 1), stride=(1, 1), bias=False)\n",
       "        (norm2): BatchNorm2d(128, eps=1e-05, momentum=0.1, affine=True, track_running_stats=True)\n",
       "        (relu2): ReLU(inplace=True)\n",
       "        (conv2): Conv2d(128, 32, kernel_size=(3, 3), stride=(1, 1), padding=(1, 1), bias=False)\n",
       "      )\n",
       "      (denselayer7): _DenseLayer(\n",
       "        (norm1): BatchNorm2d(448, eps=1e-05, momentum=0.1, affine=True, track_running_stats=True)\n",
       "        (relu1): ReLU(inplace=True)\n",
       "        (conv1): Conv2d(448, 128, kernel_size=(1, 1), stride=(1, 1), bias=False)\n",
       "        (norm2): BatchNorm2d(128, eps=1e-05, momentum=0.1, affine=True, track_running_stats=True)\n",
       "        (relu2): ReLU(inplace=True)\n",
       "        (conv2): Conv2d(128, 32, kernel_size=(3, 3), stride=(1, 1), padding=(1, 1), bias=False)\n",
       "      )\n",
       "      (denselayer8): _DenseLayer(\n",
       "        (norm1): BatchNorm2d(480, eps=1e-05, momentum=0.1, affine=True, track_running_stats=True)\n",
       "        (relu1): ReLU(inplace=True)\n",
       "        (conv1): Conv2d(480, 128, kernel_size=(1, 1), stride=(1, 1), bias=False)\n",
       "        (norm2): BatchNorm2d(128, eps=1e-05, momentum=0.1, affine=True, track_running_stats=True)\n",
       "        (relu2): ReLU(inplace=True)\n",
       "        (conv2): Conv2d(128, 32, kernel_size=(3, 3), stride=(1, 1), padding=(1, 1), bias=False)\n",
       "      )\n",
       "      (denselayer9): _DenseLayer(\n",
       "        (norm1): BatchNorm2d(512, eps=1e-05, momentum=0.1, affine=True, track_running_stats=True)\n",
       "        (relu1): ReLU(inplace=True)\n",
       "        (conv1): Conv2d(512, 128, kernel_size=(1, 1), stride=(1, 1), bias=False)\n",
       "        (norm2): BatchNorm2d(128, eps=1e-05, momentum=0.1, affine=True, track_running_stats=True)\n",
       "        (relu2): ReLU(inplace=True)\n",
       "        (conv2): Conv2d(128, 32, kernel_size=(3, 3), stride=(1, 1), padding=(1, 1), bias=False)\n",
       "      )\n",
       "      (denselayer10): _DenseLayer(\n",
       "        (norm1): BatchNorm2d(544, eps=1e-05, momentum=0.1, affine=True, track_running_stats=True)\n",
       "        (relu1): ReLU(inplace=True)\n",
       "        (conv1): Conv2d(544, 128, kernel_size=(1, 1), stride=(1, 1), bias=False)\n",
       "        (norm2): BatchNorm2d(128, eps=1e-05, momentum=0.1, affine=True, track_running_stats=True)\n",
       "        (relu2): ReLU(inplace=True)\n",
       "        (conv2): Conv2d(128, 32, kernel_size=(3, 3), stride=(1, 1), padding=(1, 1), bias=False)\n",
       "      )\n",
       "      (denselayer11): _DenseLayer(\n",
       "        (norm1): BatchNorm2d(576, eps=1e-05, momentum=0.1, affine=True, track_running_stats=True)\n",
       "        (relu1): ReLU(inplace=True)\n",
       "        (conv1): Conv2d(576, 128, kernel_size=(1, 1), stride=(1, 1), bias=False)\n",
       "        (norm2): BatchNorm2d(128, eps=1e-05, momentum=0.1, affine=True, track_running_stats=True)\n",
       "        (relu2): ReLU(inplace=True)\n",
       "        (conv2): Conv2d(128, 32, kernel_size=(3, 3), stride=(1, 1), padding=(1, 1), bias=False)\n",
       "      )\n",
       "      (denselayer12): _DenseLayer(\n",
       "        (norm1): BatchNorm2d(608, eps=1e-05, momentum=0.1, affine=True, track_running_stats=True)\n",
       "        (relu1): ReLU(inplace=True)\n",
       "        (conv1): Conv2d(608, 128, kernel_size=(1, 1), stride=(1, 1), bias=False)\n",
       "        (norm2): BatchNorm2d(128, eps=1e-05, momentum=0.1, affine=True, track_running_stats=True)\n",
       "        (relu2): ReLU(inplace=True)\n",
       "        (conv2): Conv2d(128, 32, kernel_size=(3, 3), stride=(1, 1), padding=(1, 1), bias=False)\n",
       "      )\n",
       "      (denselayer13): _DenseLayer(\n",
       "        (norm1): BatchNorm2d(640, eps=1e-05, momentum=0.1, affine=True, track_running_stats=True)\n",
       "        (relu1): ReLU(inplace=True)\n",
       "        (conv1): Conv2d(640, 128, kernel_size=(1, 1), stride=(1, 1), bias=False)\n",
       "        (norm2): BatchNorm2d(128, eps=1e-05, momentum=0.1, affine=True, track_running_stats=True)\n",
       "        (relu2): ReLU(inplace=True)\n",
       "        (conv2): Conv2d(128, 32, kernel_size=(3, 3), stride=(1, 1), padding=(1, 1), bias=False)\n",
       "      )\n",
       "      (denselayer14): _DenseLayer(\n",
       "        (norm1): BatchNorm2d(672, eps=1e-05, momentum=0.1, affine=True, track_running_stats=True)\n",
       "        (relu1): ReLU(inplace=True)\n",
       "        (conv1): Conv2d(672, 128, kernel_size=(1, 1), stride=(1, 1), bias=False)\n",
       "        (norm2): BatchNorm2d(128, eps=1e-05, momentum=0.1, affine=True, track_running_stats=True)\n",
       "        (relu2): ReLU(inplace=True)\n",
       "        (conv2): Conv2d(128, 32, kernel_size=(3, 3), stride=(1, 1), padding=(1, 1), bias=False)\n",
       "      )\n",
       "      (denselayer15): _DenseLayer(\n",
       "        (norm1): BatchNorm2d(704, eps=1e-05, momentum=0.1, affine=True, track_running_stats=True)\n",
       "        (relu1): ReLU(inplace=True)\n",
       "        (conv1): Conv2d(704, 128, kernel_size=(1, 1), stride=(1, 1), bias=False)\n",
       "        (norm2): BatchNorm2d(128, eps=1e-05, momentum=0.1, affine=True, track_running_stats=True)\n",
       "        (relu2): ReLU(inplace=True)\n",
       "        (conv2): Conv2d(128, 32, kernel_size=(3, 3), stride=(1, 1), padding=(1, 1), bias=False)\n",
       "      )\n",
       "      (denselayer16): _DenseLayer(\n",
       "        (norm1): BatchNorm2d(736, eps=1e-05, momentum=0.1, affine=True, track_running_stats=True)\n",
       "        (relu1): ReLU(inplace=True)\n",
       "        (conv1): Conv2d(736, 128, kernel_size=(1, 1), stride=(1, 1), bias=False)\n",
       "        (norm2): BatchNorm2d(128, eps=1e-05, momentum=0.1, affine=True, track_running_stats=True)\n",
       "        (relu2): ReLU(inplace=True)\n",
       "        (conv2): Conv2d(128, 32, kernel_size=(3, 3), stride=(1, 1), padding=(1, 1), bias=False)\n",
       "      )\n",
       "      (denselayer17): _DenseLayer(\n",
       "        (norm1): BatchNorm2d(768, eps=1e-05, momentum=0.1, affine=True, track_running_stats=True)\n",
       "        (relu1): ReLU(inplace=True)\n",
       "        (conv1): Conv2d(768, 128, kernel_size=(1, 1), stride=(1, 1), bias=False)\n",
       "        (norm2): BatchNorm2d(128, eps=1e-05, momentum=0.1, affine=True, track_running_stats=True)\n",
       "        (relu2): ReLU(inplace=True)\n",
       "        (conv2): Conv2d(128, 32, kernel_size=(3, 3), stride=(1, 1), padding=(1, 1), bias=False)\n",
       "      )\n",
       "      (denselayer18): _DenseLayer(\n",
       "        (norm1): BatchNorm2d(800, eps=1e-05, momentum=0.1, affine=True, track_running_stats=True)\n",
       "        (relu1): ReLU(inplace=True)\n",
       "        (conv1): Conv2d(800, 128, kernel_size=(1, 1), stride=(1, 1), bias=False)\n",
       "        (norm2): BatchNorm2d(128, eps=1e-05, momentum=0.1, affine=True, track_running_stats=True)\n",
       "        (relu2): ReLU(inplace=True)\n",
       "        (conv2): Conv2d(128, 32, kernel_size=(3, 3), stride=(1, 1), padding=(1, 1), bias=False)\n",
       "      )\n",
       "      (denselayer19): _DenseLayer(\n",
       "        (norm1): BatchNorm2d(832, eps=1e-05, momentum=0.1, affine=True, track_running_stats=True)\n",
       "        (relu1): ReLU(inplace=True)\n",
       "        (conv1): Conv2d(832, 128, kernel_size=(1, 1), stride=(1, 1), bias=False)\n",
       "        (norm2): BatchNorm2d(128, eps=1e-05, momentum=0.1, affine=True, track_running_stats=True)\n",
       "        (relu2): ReLU(inplace=True)\n",
       "        (conv2): Conv2d(128, 32, kernel_size=(3, 3), stride=(1, 1), padding=(1, 1), bias=False)\n",
       "      )\n",
       "      (denselayer20): _DenseLayer(\n",
       "        (norm1): BatchNorm2d(864, eps=1e-05, momentum=0.1, affine=True, track_running_stats=True)\n",
       "        (relu1): ReLU(inplace=True)\n",
       "        (conv1): Conv2d(864, 128, kernel_size=(1, 1), stride=(1, 1), bias=False)\n",
       "        (norm2): BatchNorm2d(128, eps=1e-05, momentum=0.1, affine=True, track_running_stats=True)\n",
       "        (relu2): ReLU(inplace=True)\n",
       "        (conv2): Conv2d(128, 32, kernel_size=(3, 3), stride=(1, 1), padding=(1, 1), bias=False)\n",
       "      )\n",
       "      (denselayer21): _DenseLayer(\n",
       "        (norm1): BatchNorm2d(896, eps=1e-05, momentum=0.1, affine=True, track_running_stats=True)\n",
       "        (relu1): ReLU(inplace=True)\n",
       "        (conv1): Conv2d(896, 128, kernel_size=(1, 1), stride=(1, 1), bias=False)\n",
       "        (norm2): BatchNorm2d(128, eps=1e-05, momentum=0.1, affine=True, track_running_stats=True)\n",
       "        (relu2): ReLU(inplace=True)\n",
       "        (conv2): Conv2d(128, 32, kernel_size=(3, 3), stride=(1, 1), padding=(1, 1), bias=False)\n",
       "      )\n",
       "      (denselayer22): _DenseLayer(\n",
       "        (norm1): BatchNorm2d(928, eps=1e-05, momentum=0.1, affine=True, track_running_stats=True)\n",
       "        (relu1): ReLU(inplace=True)\n",
       "        (conv1): Conv2d(928, 128, kernel_size=(1, 1), stride=(1, 1), bias=False)\n",
       "        (norm2): BatchNorm2d(128, eps=1e-05, momentum=0.1, affine=True, track_running_stats=True)\n",
       "        (relu2): ReLU(inplace=True)\n",
       "        (conv2): Conv2d(128, 32, kernel_size=(3, 3), stride=(1, 1), padding=(1, 1), bias=False)\n",
       "      )\n",
       "      (denselayer23): _DenseLayer(\n",
       "        (norm1): BatchNorm2d(960, eps=1e-05, momentum=0.1, affine=True, track_running_stats=True)\n",
       "        (relu1): ReLU(inplace=True)\n",
       "        (conv1): Conv2d(960, 128, kernel_size=(1, 1), stride=(1, 1), bias=False)\n",
       "        (norm2): BatchNorm2d(128, eps=1e-05, momentum=0.1, affine=True, track_running_stats=True)\n",
       "        (relu2): ReLU(inplace=True)\n",
       "        (conv2): Conv2d(128, 32, kernel_size=(3, 3), stride=(1, 1), padding=(1, 1), bias=False)\n",
       "      )\n",
       "      (denselayer24): _DenseLayer(\n",
       "        (norm1): BatchNorm2d(992, eps=1e-05, momentum=0.1, affine=True, track_running_stats=True)\n",
       "        (relu1): ReLU(inplace=True)\n",
       "        (conv1): Conv2d(992, 128, kernel_size=(1, 1), stride=(1, 1), bias=False)\n",
       "        (norm2): BatchNorm2d(128, eps=1e-05, momentum=0.1, affine=True, track_running_stats=True)\n",
       "        (relu2): ReLU(inplace=True)\n",
       "        (conv2): Conv2d(128, 32, kernel_size=(3, 3), stride=(1, 1), padding=(1, 1), bias=False)\n",
       "      )\n",
       "    )\n",
       "    (transition3): _Transition(\n",
       "      (norm): BatchNorm2d(1024, eps=1e-05, momentum=0.1, affine=True, track_running_stats=True)\n",
       "      (relu): ReLU(inplace=True)\n",
       "      (conv): Conv2d(1024, 512, kernel_size=(1, 1), stride=(1, 1), bias=False)\n",
       "      (pool): AvgPool2d(kernel_size=2, stride=2, padding=0)\n",
       "    )\n",
       "    (denseblock4): _DenseBlock(\n",
       "      (denselayer1): _DenseLayer(\n",
       "        (norm1): BatchNorm2d(512, eps=1e-05, momentum=0.1, affine=True, track_running_stats=True)\n",
       "        (relu1): ReLU(inplace=True)\n",
       "        (conv1): Conv2d(512, 128, kernel_size=(1, 1), stride=(1, 1), bias=False)\n",
       "        (norm2): BatchNorm2d(128, eps=1e-05, momentum=0.1, affine=True, track_running_stats=True)\n",
       "        (relu2): ReLU(inplace=True)\n",
       "        (conv2): Conv2d(128, 32, kernel_size=(3, 3), stride=(1, 1), padding=(1, 1), bias=False)\n",
       "      )\n",
       "      (denselayer2): _DenseLayer(\n",
       "        (norm1): BatchNorm2d(544, eps=1e-05, momentum=0.1, affine=True, track_running_stats=True)\n",
       "        (relu1): ReLU(inplace=True)\n",
       "        (conv1): Conv2d(544, 128, kernel_size=(1, 1), stride=(1, 1), bias=False)\n",
       "        (norm2): BatchNorm2d(128, eps=1e-05, momentum=0.1, affine=True, track_running_stats=True)\n",
       "        (relu2): ReLU(inplace=True)\n",
       "        (conv2): Conv2d(128, 32, kernel_size=(3, 3), stride=(1, 1), padding=(1, 1), bias=False)\n",
       "      )\n",
       "      (denselayer3): _DenseLayer(\n",
       "        (norm1): BatchNorm2d(576, eps=1e-05, momentum=0.1, affine=True, track_running_stats=True)\n",
       "        (relu1): ReLU(inplace=True)\n",
       "        (conv1): Conv2d(576, 128, kernel_size=(1, 1), stride=(1, 1), bias=False)\n",
       "        (norm2): BatchNorm2d(128, eps=1e-05, momentum=0.1, affine=True, track_running_stats=True)\n",
       "        (relu2): ReLU(inplace=True)\n",
       "        (conv2): Conv2d(128, 32, kernel_size=(3, 3), stride=(1, 1), padding=(1, 1), bias=False)\n",
       "      )\n",
       "      (denselayer4): _DenseLayer(\n",
       "        (norm1): BatchNorm2d(608, eps=1e-05, momentum=0.1, affine=True, track_running_stats=True)\n",
       "        (relu1): ReLU(inplace=True)\n",
       "        (conv1): Conv2d(608, 128, kernel_size=(1, 1), stride=(1, 1), bias=False)\n",
       "        (norm2): BatchNorm2d(128, eps=1e-05, momentum=0.1, affine=True, track_running_stats=True)\n",
       "        (relu2): ReLU(inplace=True)\n",
       "        (conv2): Conv2d(128, 32, kernel_size=(3, 3), stride=(1, 1), padding=(1, 1), bias=False)\n",
       "      )\n",
       "      (denselayer5): _DenseLayer(\n",
       "        (norm1): BatchNorm2d(640, eps=1e-05, momentum=0.1, affine=True, track_running_stats=True)\n",
       "        (relu1): ReLU(inplace=True)\n",
       "        (conv1): Conv2d(640, 128, kernel_size=(1, 1), stride=(1, 1), bias=False)\n",
       "        (norm2): BatchNorm2d(128, eps=1e-05, momentum=0.1, affine=True, track_running_stats=True)\n",
       "        (relu2): ReLU(inplace=True)\n",
       "        (conv2): Conv2d(128, 32, kernel_size=(3, 3), stride=(1, 1), padding=(1, 1), bias=False)\n",
       "      )\n",
       "      (denselayer6): _DenseLayer(\n",
       "        (norm1): BatchNorm2d(672, eps=1e-05, momentum=0.1, affine=True, track_running_stats=True)\n",
       "        (relu1): ReLU(inplace=True)\n",
       "        (conv1): Conv2d(672, 128, kernel_size=(1, 1), stride=(1, 1), bias=False)\n",
       "        (norm2): BatchNorm2d(128, eps=1e-05, momentum=0.1, affine=True, track_running_stats=True)\n",
       "        (relu2): ReLU(inplace=True)\n",
       "        (conv2): Conv2d(128, 32, kernel_size=(3, 3), stride=(1, 1), padding=(1, 1), bias=False)\n",
       "      )\n",
       "      (denselayer7): _DenseLayer(\n",
       "        (norm1): BatchNorm2d(704, eps=1e-05, momentum=0.1, affine=True, track_running_stats=True)\n",
       "        (relu1): ReLU(inplace=True)\n",
       "        (conv1): Conv2d(704, 128, kernel_size=(1, 1), stride=(1, 1), bias=False)\n",
       "        (norm2): BatchNorm2d(128, eps=1e-05, momentum=0.1, affine=True, track_running_stats=True)\n",
       "        (relu2): ReLU(inplace=True)\n",
       "        (conv2): Conv2d(128, 32, kernel_size=(3, 3), stride=(1, 1), padding=(1, 1), bias=False)\n",
       "      )\n",
       "      (denselayer8): _DenseLayer(\n",
       "        (norm1): BatchNorm2d(736, eps=1e-05, momentum=0.1, affine=True, track_running_stats=True)\n",
       "        (relu1): ReLU(inplace=True)\n",
       "        (conv1): Conv2d(736, 128, kernel_size=(1, 1), stride=(1, 1), bias=False)\n",
       "        (norm2): BatchNorm2d(128, eps=1e-05, momentum=0.1, affine=True, track_running_stats=True)\n",
       "        (relu2): ReLU(inplace=True)\n",
       "        (conv2): Conv2d(128, 32, kernel_size=(3, 3), stride=(1, 1), padding=(1, 1), bias=False)\n",
       "      )\n",
       "      (denselayer9): _DenseLayer(\n",
       "        (norm1): BatchNorm2d(768, eps=1e-05, momentum=0.1, affine=True, track_running_stats=True)\n",
       "        (relu1): ReLU(inplace=True)\n",
       "        (conv1): Conv2d(768, 128, kernel_size=(1, 1), stride=(1, 1), bias=False)\n",
       "        (norm2): BatchNorm2d(128, eps=1e-05, momentum=0.1, affine=True, track_running_stats=True)\n",
       "        (relu2): ReLU(inplace=True)\n",
       "        (conv2): Conv2d(128, 32, kernel_size=(3, 3), stride=(1, 1), padding=(1, 1), bias=False)\n",
       "      )\n",
       "      (denselayer10): _DenseLayer(\n",
       "        (norm1): BatchNorm2d(800, eps=1e-05, momentum=0.1, affine=True, track_running_stats=True)\n",
       "        (relu1): ReLU(inplace=True)\n",
       "        (conv1): Conv2d(800, 128, kernel_size=(1, 1), stride=(1, 1), bias=False)\n",
       "        (norm2): BatchNorm2d(128, eps=1e-05, momentum=0.1, affine=True, track_running_stats=True)\n",
       "        (relu2): ReLU(inplace=True)\n",
       "        (conv2): Conv2d(128, 32, kernel_size=(3, 3), stride=(1, 1), padding=(1, 1), bias=False)\n",
       "      )\n",
       "      (denselayer11): _DenseLayer(\n",
       "        (norm1): BatchNorm2d(832, eps=1e-05, momentum=0.1, affine=True, track_running_stats=True)\n",
       "        (relu1): ReLU(inplace=True)\n",
       "        (conv1): Conv2d(832, 128, kernel_size=(1, 1), stride=(1, 1), bias=False)\n",
       "        (norm2): BatchNorm2d(128, eps=1e-05, momentum=0.1, affine=True, track_running_stats=True)\n",
       "        (relu2): ReLU(inplace=True)\n",
       "        (conv2): Conv2d(128, 32, kernel_size=(3, 3), stride=(1, 1), padding=(1, 1), bias=False)\n",
       "      )\n",
       "      (denselayer12): _DenseLayer(\n",
       "        (norm1): BatchNorm2d(864, eps=1e-05, momentum=0.1, affine=True, track_running_stats=True)\n",
       "        (relu1): ReLU(inplace=True)\n",
       "        (conv1): Conv2d(864, 128, kernel_size=(1, 1), stride=(1, 1), bias=False)\n",
       "        (norm2): BatchNorm2d(128, eps=1e-05, momentum=0.1, affine=True, track_running_stats=True)\n",
       "        (relu2): ReLU(inplace=True)\n",
       "        (conv2): Conv2d(128, 32, kernel_size=(3, 3), stride=(1, 1), padding=(1, 1), bias=False)\n",
       "      )\n",
       "      (denselayer13): _DenseLayer(\n",
       "        (norm1): BatchNorm2d(896, eps=1e-05, momentum=0.1, affine=True, track_running_stats=True)\n",
       "        (relu1): ReLU(inplace=True)\n",
       "        (conv1): Conv2d(896, 128, kernel_size=(1, 1), stride=(1, 1), bias=False)\n",
       "        (norm2): BatchNorm2d(128, eps=1e-05, momentum=0.1, affine=True, track_running_stats=True)\n",
       "        (relu2): ReLU(inplace=True)\n",
       "        (conv2): Conv2d(128, 32, kernel_size=(3, 3), stride=(1, 1), padding=(1, 1), bias=False)\n",
       "      )\n",
       "      (denselayer14): _DenseLayer(\n",
       "        (norm1): BatchNorm2d(928, eps=1e-05, momentum=0.1, affine=True, track_running_stats=True)\n",
       "        (relu1): ReLU(inplace=True)\n",
       "        (conv1): Conv2d(928, 128, kernel_size=(1, 1), stride=(1, 1), bias=False)\n",
       "        (norm2): BatchNorm2d(128, eps=1e-05, momentum=0.1, affine=True, track_running_stats=True)\n",
       "        (relu2): ReLU(inplace=True)\n",
       "        (conv2): Conv2d(128, 32, kernel_size=(3, 3), stride=(1, 1), padding=(1, 1), bias=False)\n",
       "      )\n",
       "      (denselayer15): _DenseLayer(\n",
       "        (norm1): BatchNorm2d(960, eps=1e-05, momentum=0.1, affine=True, track_running_stats=True)\n",
       "        (relu1): ReLU(inplace=True)\n",
       "        (conv1): Conv2d(960, 128, kernel_size=(1, 1), stride=(1, 1), bias=False)\n",
       "        (norm2): BatchNorm2d(128, eps=1e-05, momentum=0.1, affine=True, track_running_stats=True)\n",
       "        (relu2): ReLU(inplace=True)\n",
       "        (conv2): Conv2d(128, 32, kernel_size=(3, 3), stride=(1, 1), padding=(1, 1), bias=False)\n",
       "      )\n",
       "      (denselayer16): _DenseLayer(\n",
       "        (norm1): BatchNorm2d(992, eps=1e-05, momentum=0.1, affine=True, track_running_stats=True)\n",
       "        (relu1): ReLU(inplace=True)\n",
       "        (conv1): Conv2d(992, 128, kernel_size=(1, 1), stride=(1, 1), bias=False)\n",
       "        (norm2): BatchNorm2d(128, eps=1e-05, momentum=0.1, affine=True, track_running_stats=True)\n",
       "        (relu2): ReLU(inplace=True)\n",
       "        (conv2): Conv2d(128, 32, kernel_size=(3, 3), stride=(1, 1), padding=(1, 1), bias=False)\n",
       "      )\n",
       "    )\n",
       "    (norm5): BatchNorm2d(1024, eps=1e-05, momentum=0.1, affine=True, track_running_stats=True)\n",
       "  )\n",
       "  (classifier): Linear(in_features=1024, out_features=1108, bias=True)\n",
       ")"
      ]
     },
     "execution_count": 21,
     "metadata": {},
     "output_type": "execute_result"
    }
   ],
   "source": [
    "model = DenseNet(num_classes=trndf.sirna.max()+1, num_channels = 6)\n",
    "model"
   ]
  },
  {
   "cell_type": "code",
   "execution_count": 22,
   "metadata": {},
   "outputs": [
    {
     "data": {
      "text/plain": [
       "['register_forward_pre_hook',\n",
       " 'register_parameter',\n",
       " 'requires_grad_',\n",
       " 'share_memory',\n",
       " 'state_dict',\n",
       " 'to',\n",
       " 'train',\n",
       " 'training',\n",
       " 'type',\n",
       " 'zero_grad']"
      ]
     },
     "execution_count": 22,
     "metadata": {},
     "output_type": "execute_result"
    }
   ],
   "source": [
    "dir(model)[-10:]"
   ]
  },
  {
   "cell_type": "code",
   "execution_count": 23,
   "metadata": {},
   "outputs": [
    {
     "data": {
      "text/plain": [
       "[('features.conv0.weight', torch.Size([64, 6, 7, 7])),\n",
       " ('features.conv0.bias', torch.Size([64])),\n",
       " ('features.norm0.weight', torch.Size([64])),\n",
       " ('features.norm0.bias', torch.Size([64])),\n",
       " ('features.denseblock1.denselayer1.norm1.weight', torch.Size([64])),\n",
       " ('features.denseblock1.denselayer1.norm1.bias', torch.Size([64])),\n",
       " ('features.denseblock1.denselayer1.conv1.weight',\n",
       "  torch.Size([128, 64, 1, 1])),\n",
       " ('features.denseblock1.denselayer1.norm2.weight', torch.Size([128])),\n",
       " ('features.denseblock1.denselayer1.norm2.bias', torch.Size([128])),\n",
       " ('features.denseblock1.denselayer1.conv2.weight',\n",
       "  torch.Size([32, 128, 3, 3]))]"
      ]
     },
     "execution_count": 23,
     "metadata": {},
     "output_type": "execute_result"
    }
   ],
   "source": [
    "# Look at the first 10 layers\n",
    "[(n, w.shape) for t, (n,w) in enumerate(model.named_parameters()) if t <10]"
   ]
  },
  {
   "cell_type": "markdown",
   "metadata": {},
   "source": [
    "### Lets look at a single layer"
   ]
  },
  {
   "cell_type": "code",
   "execution_count": 35,
   "metadata": {},
   "outputs": [
    {
     "data": {
      "text/plain": [
       "tensor([[[[-0.0104, -0.0378, -0.0206],\n",
       "          [-0.0457,  0.0066, -0.0260],\n",
       "          [-0.0073, -0.0181,  0.0089]],\n",
       "\n",
       "         [[-0.0338, -0.0192, -0.0333],\n",
       "          [-0.0413, -0.0283, -0.0355],\n",
       "          [-0.0078,  0.0159,  0.0169]],\n",
       "\n",
       "         [[-0.0581, -0.0621, -0.0648],\n",
       "          [-0.0457, -0.0352, -0.0481],\n",
       "          [-0.0410, -0.0334, -0.0686]],\n",
       "\n",
       "         ...,\n",
       "\n",
       "         [[-0.0399, -0.0263, -0.0461],\n",
       "          [-0.0614, -0.0810, -0.0776],\n",
       "          [-0.0065, -0.0465, -0.0232]],\n",
       "\n",
       "         [[ 0.0409, -0.0264,  0.0072],\n",
       "          [-0.0058, -0.0172, -0.0186],\n",
       "          [-0.0031, -0.0018, -0.0408]],\n",
       "\n",
       "         [[-0.0110, -0.0634, -0.0400],\n",
       "          [ 0.0096, -0.0769, -0.0161],\n",
       "          [-0.0323, -0.0333, -0.0519]]]], device='cuda:0', dtype=torch.float16,\n",
       "       grad_fn=<SliceBackward>)"
      ]
     },
     "execution_count": 35,
     "metadata": {},
     "output_type": "execute_result"
    }
   ],
   "source": [
    "model.features.denseblock2.denselayer10.conv2.weight[:1]"
   ]
  },
  {
   "cell_type": "markdown",
   "metadata": {},
   "source": [
    "## Mixed Precision Training\n",
    "We saw apex in homework 6. This allows certain parts of the network to be stored in FP32 (32-bit floating point) and other parts to be stored in FP16\n",
    "With a few small code changes we can half runtime... essential in the large networks outperforming today."
   ]
  },
  {
   "cell_type": "code",
   "execution_count": 25,
   "metadata": {
    "_cell_guid": "b1076dfc-b9ad-4769-8c92-a6c4dae69d19",
    "_uuid": "8f2839f25d086af736a60e9eeb907d3b93b6e0e5"
   },
   "outputs": [],
   "source": [
    "%%capture\n",
    "# install NVIDIA Apex if needed to support mixed precision training\n",
    "use_amp = True\n",
    "if use_amp:\n",
    "    try:\n",
    "        from apex import amp\n",
    "    except ImportError:\n",
    "        !pip install  -v --no-cache-dir --global-option=\"--cpp_ext\" --global-option=\"--cuda_ext\" ../input/*/*/NVIDIA-apex*\n",
    "        from apex import amp"
   ]
  },
  {
   "cell_type": "markdown",
   "metadata": {},
   "source": [
    "## Use one cycle to get optimum LR"
   ]
  },
  {
   "cell_type": "code",
   "execution_count": 26,
   "metadata": {},
   "outputs": [
    {
     "name": "stdout",
     "output_type": "stream",
     "text": [
      "Selected optimization level O2:  FP16 training with FP32 batchnorm and FP32 master weights.\n",
      "\n",
      "Defaults for this optimization level are:\n",
      "enabled                : True\n",
      "opt_level              : O2\n",
      "cast_model_type        : torch.float16\n",
      "patch_torch_functions  : False\n",
      "keep_batchnorm_fp32    : True\n",
      "master_weights         : True\n",
      "loss_scale             : dynamic\n",
      "Processing user overrides (additional kwargs that are not None)...\n",
      "After processing overrides, optimization options are:\n",
      "enabled                : True\n",
      "opt_level              : O2\n",
      "cast_model_type        : torch.float16\n",
      "patch_torch_functions  : False\n",
      "keep_batchnorm_fp32    : False\n",
      "master_weights         : True\n",
      "loss_scale             : dynamic\n"
     ]
    }
   ],
   "source": [
    "device = 'cuda'\n",
    "model = DenseNet(num_classes=trndf.sirna.max()+1, num_channels = 6)\n",
    "model.to(device)\n",
    "criterion = nn.CrossEntropyLoss()\n",
    "optimizer = torch.optim.Adam(model.parameters(), lr=0.001)\n",
    "model, optimizer = amp.initialize(model, optimizer, opt_level=\"O2\", keep_batchnorm_fp32=False, loss_scale=\"dynamic\")"
   ]
  },
  {
   "cell_type": "markdown",
   "metadata": {},
   "source": [
    "## [One Cycle Policy](https://sgugger.github.io/the-1cycle-policy.html#the-1cycle-policy)"
   ]
  },
  {
   "cell_type": "code",
   "execution_count": 27,
   "metadata": {},
   "outputs": [
    {
     "name": "stdout",
     "output_type": "stream",
     "text": [
      "Total Step Count : 571\n"
     ]
    }
   ],
   "source": [
    "# One cycle policy https://sgugger.github.io/the-1cycle-policy.html#the-1cycle-policy\n",
    "optimizer.param_groups[0]['lr'] = .001 \n",
    "onecycdf = trnalldf\n",
    "onecycleloader = D.DataLoader(ImagesDS(onecycdf, path_data, mode='train'), batch_size=batch_size, shuffle=True, num_workers=8)\n",
    "print('Total Step Count : {}'.format(len(onecycleloader)))\n"
   ]
  },
  {
   "cell_type": "code",
   "execution_count": 36,
   "metadata": {},
   "outputs": [
    {
     "data": {
      "text/plain": [
       "<matplotlib.axes._subplots.AxesSubplot at 0x7f9ca4c0ea90>"
      ]
     },
     "execution_count": 36,
     "metadata": {},
     "output_type": "execute_result"
    },
    {
     "data": {
      "image/png": "[encoded data removed]",
      "text/plain": [
       "<Figure size 432x288 with 1 Axes>"
      ]
     },
     "metadata": {
      "needs_background": "light"
     },
     "output_type": "display_data"
    }
   ],
   "source": [
    "import math\n",
    "init_value = 1e-5\n",
    "final_value=1.\n",
    "beta = 0.98\n",
    "avg_loss = 0.\n",
    "batch_num = 0\n",
    "numsteps = len(onecycleloader)-1\n",
    "mult = (final_value / init_value) ** (1/numsteps )\n",
    "lrvals = pd.Series([init_value*(mult**i) for i in  range(numsteps+ 1)])\n",
    "lrvals.plot(title='LR per step')"
   ]
  },
  {
   "cell_type": "code",
   "execution_count": 29,
   "metadata": {},
   "outputs": [
    {
     "name": "stdout",
     "output_type": "stream",
     "text": [
      "Step 0 lr 0.000010 smoothed loss 7.08925 time 2019-09-29 05:57:42.620021\n",
      "Step 20 lr 0.000015 smoothed loss 7.10953 time 2019-09-29 05:58:14.849014\n",
      "Step 40 lr 0.000022 smoothed loss 7.11701 time 2019-09-29 05:59:14.612286\n",
      "Step 60 lr 0.000034 smoothed loss 7.11733 time 2019-09-29 06:00:32.777428\n",
      "Step 80 lr 0.000050 smoothed loss 7.10666 time 2019-09-29 06:01:41.171489\n",
      "Step 100 lr 0.000075 smoothed loss 7.09828 time 2019-09-29 06:02:53.601736\n",
      "Step 120 lr 0.000113 smoothed loss 7.08193 time 2019-09-29 06:04:00.146326\n",
      "Step 140 lr 0.000169 smoothed loss 7.07581 time 2019-09-29 06:05:13.710083\n",
      "Step 160 lr 0.000253 smoothed loss 7.06566 time 2019-09-29 06:06:23.528268\n",
      "Step 180 lr 0.000379 smoothed loss 7.06292 time 2019-09-29 06:07:28.463159\n",
      "Step 200 lr 0.000568 smoothed loss 7.05510 time 2019-09-29 06:08:43.422192\n",
      "Step 220 lr 0.000851 smoothed loss 7.06461 time 2019-09-29 06:09:55.667572\n",
      "Step 240 lr 0.001274 smoothed loss 7.06003 time 2019-09-29 06:11:12.668408\n",
      "Gradient overflow.  Skipping step, loss scaler 0 reducing loss scale to 32768.0\n",
      "Gradient overflow.  Skipping step, loss scaler 0 reducing loss scale to 16384.0\n",
      "Step 260 lr 0.001909 smoothed loss 7.05602 time 2019-09-29 06:12:24.829001\n",
      "Gradient overflow.  Skipping step, loss scaler 0 reducing loss scale to 8192.0\n",
      "Step 280 lr 0.002859 smoothed loss 7.11917 time 2019-09-29 06:13:37.662166\n",
      "Step 300 lr 0.004281 smoothed loss 7.16879 time 2019-09-29 06:14:52.429927\n",
      "Step 320 lr 0.006412 smoothed loss 7.18533 time 2019-09-29 06:16:06.608756\n",
      "Gradient overflow.  Skipping step, loss scaler 0 reducing loss scale to 4096.0\n",
      "Step 340 lr 0.009604 smoothed loss 7.16955 time 2019-09-29 06:17:25.429597\n",
      "Step 360 lr 0.014384 smoothed loss 7.10082 time 2019-09-29 06:18:34.908467\n",
      "Step 380 lr 0.021544 smoothed loss 7.04383 time 2019-09-29 06:19:54.455161\n",
      "Step 400 lr 0.032268 smoothed loss 6.99802 time 2019-09-29 06:21:08.373497\n",
      "Step 420 lr 0.048329 smoothed loss 6.97168 time 2019-09-29 06:22:17.255601\n",
      "Step 440 lr 0.072385 smoothed loss 6.96373 time 2019-09-29 06:23:28.725842\n",
      "Step 460 lr 0.108415 smoothed loss 6.98990 time 2019-09-29 06:24:41.420592\n",
      "Step 480 lr 0.162378 smoothed loss 7.02257 time 2019-09-29 06:25:53.263796\n",
      "Step 500 lr 0.243201 smoothed loss 7.05172 time 2019-09-29 06:27:08.408315\n",
      "Step 520 lr 0.364253 smoothed loss 7.13792 time 2019-09-29 06:28:24.984409\n",
      "Step 540 lr 0.545559 smoothed loss 7.29013 time 2019-09-29 06:29:46.881406\n",
      "Gradient overflow.  Skipping step, loss scaler 0 reducing loss scale to 2048.0\n",
      "Gradient overflow.  Skipping step, loss scaler 0 reducing loss scale to 1024.0\n",
      "Gradient overflow.  Skipping step, loss scaler 0 reducing loss scale to 512.0\n",
      "Gradient overflow.  Skipping step, loss scaler 0 reducing loss scale to 256.0\n",
      "Step 560 lr 0.817110 smoothed loss nan time 2019-09-29 06:31:06.667524\n",
      "Gradient overflow.  Skipping step, loss scaler 0 reducing loss scale to 128.0\n",
      "Gradient overflow.  Skipping step, loss scaler 0 reducing loss scale to 64.0\n",
      "Gradient overflow.  Skipping step, loss scaler 0 reducing loss scale to 32.0\n",
      "Gradient overflow.  Skipping step, loss scaler 0 reducing loss scale to 16.0\n",
      "Gradient overflow.  Skipping step, loss scaler 0 reducing loss scale to 8.0\n",
      "Gradient overflow.  Skipping step, loss scaler 0 reducing loss scale to 4.0\n",
      "Gradient overflow.  Skipping step, loss scaler 0 reducing loss scale to 2.0\n",
      "Gradient overflow.  Skipping step, loss scaler 0 reducing loss scale to 1.0\n",
      "Gradient overflow.  Skipping step, loss scaler 0 reducing loss scale to 0.5\n"
     ]
    }
   ],
   "source": [
    "lossls = []\n",
    "optimizer.param_groups[0]['lr'] = init_value\n",
    "for t, (x, y) in enumerate(onecycleloader): \n",
    "    optimizer.zero_grad()\n",
    "    x = x.to(device)#.half()\n",
    "    y = y.cuda()\n",
    "    x = torch.autograd.Variable(x, requires_grad=True)#.half()\n",
    "    y = torch.autograd.Variable(y)\n",
    "    out = model(x)\n",
    "    loss = criterion(out, y)\n",
    "    with amp.scale_loss(loss, optimizer) as scaled_loss:\n",
    "        scaled_loss.backward()\n",
    "    optimizer.step()\n",
    "    optimizer.param_groups[0]['lr'] = init_value*(mult**t)\n",
    "    \n",
    "    ######One Cycle Policy##########>\n",
    "    #Compute the smoothed loss\n",
    "    batch_num += 1\n",
    "    avg_loss = beta * avg_loss + (1-beta) *loss.item()\n",
    "    smoothed_loss = avg_loss / (1 - beta**batch_num)\n",
    "    lossls.append(smoothed_loss)\n",
    "\n",
    "    if t%20==0:\n",
    "        print('Step {} lr {:.6f} smoothed loss {:.5f} time {}'.format(t, init_value*(mult**t), smoothed_loss, datetime.now()))\n",
    "    del loss, out, y, x# , target"
   ]
  },
  {
   "cell_type": "code",
   "execution_count": 30,
   "metadata": {},
   "outputs": [
    {
     "data": {
      "text/plain": [
       "<matplotlib.axes._subplots.AxesSubplot at 0x7f9ca5275fd0>"
      ]
     },
     "execution_count": 30,
     "metadata": {},
     "output_type": "execute_result"
    },
    {
     "data": {
      "image/png": "[encoded data removed]",
      "text/plain": [
       "<Figure size 720x288 with 1 Axes>"
      ]
     },
     "metadata": {
      "needs_background": "light"
     },
     "output_type": "display_data"
    }
   ],
   "source": [
    "pd.Series(lossls, index=np.log10(lrvals)).plot(title='Smoothed loss per LR (log10)', ylim=(6.9,7.3), figsize = (10,4))"
   ]
  },
  {
   "cell_type": "markdown",
   "metadata": {},
   "source": [
    "## Create a Learning Rate Scheduler"
   ]
  },
  {
   "cell_type": "code",
   "execution_count": 82,
   "metadata": {},
   "outputs": [],
   "source": [
    "%%capture\n",
    "!pip install https://github.com/ceshine/pytorch_helper_bot/archive/0.0.5.zip\n",
    "from helperbot import GradualWarmupScheduler\n",
    "from torch.optim.lr_scheduler import _LRScheduler\n",
    "from torch.optim.lr_scheduler import ReduceLROnPlateau"
   ]
  },
  {
   "cell_type": "code",
   "execution_count": 83,
   "metadata": {},
   "outputs": [],
   "source": [
    "EPOCHS=40\n",
    "lrmult=10\n",
    "warmup_epochs=3\n",
    "lr = 8e-3\n",
    "criterion = nn.CrossEntropyLoss()\n",
    "optimizer = torch.optim.Adam(model.parameters(), lr=lr)\n",
    "scheduler_cosine = torch.optim.lr_scheduler.CosineAnnealingLR(optimizer, EPOCHS)\n",
    "scheduler_warmup = GradualWarmupScheduler(optimizer, multiplier=lrmult, \\\n",
    "                                          total_epoch=warmup_epochs, \\\n",
    "                                          after_scheduler=scheduler_cosine)"
   ]
  },
  {
   "cell_type": "code",
   "execution_count": 84,
   "metadata": {
    "scrolled": true
   },
   "outputs": [
    {
     "data": {
      "text/plain": [
       "<matplotlib.axes._subplots.AxesSubplot at 0x7f9ca4582780>"
      ]
     },
     "execution_count": 84,
     "metadata": {},
     "output_type": "execute_result"
    },
    {
     "data": {
      "image/png": "[encoded data removed]",
      "text/plain": [
       "<Figure size 432x288 with 1 Axes>"
      ]
     },
     "metadata": {
      "needs_background": "light"
     },
     "output_type": "display_data"
    }
   ],
   "source": [
    "lrls = []\n",
    "for e in range(EPOCHS):\n",
    "    scheduler_warmup.step()\n",
    "    lrls.append(scheduler_warmup.get_lr()[0])\n",
    "pd.Series(lrls).plot(title='Learning Rate by epoch')"
   ]
  },
  {
   "cell_type": "markdown",
   "metadata": {},
   "source": [
    "## Now we train up the model"
   ]
  },
  {
   "cell_type": "code",
   "execution_count": 89,
   "metadata": {},
   "outputs": [
    {
     "name": "stdout",
     "output_type": "stream",
     "text": [
      "Selected optimization level O2:  FP16 training with FP32 batchnorm and FP32 master weights.\n",
      "\n",
      "Defaults for this optimization level are:\n",
      "enabled                : True\n",
      "opt_level              : O2\n",
      "cast_model_type        : torch.float16\n",
      "patch_torch_functions  : False\n",
      "keep_batchnorm_fp32    : True\n",
      "master_weights         : True\n",
      "loss_scale             : dynamic\n",
      "Processing user overrides (additional kwargs that are not None)...\n",
      "After processing overrides, optimization options are:\n",
      "enabled                : True\n",
      "opt_level              : O2\n",
      "cast_model_type        : torch.float16\n",
      "patch_torch_functions  : False\n",
      "keep_batchnorm_fp32    : False\n",
      "master_weights         : True\n",
      "loss_scale             : dynamic\n"
     ]
    }
   ],
   "source": [
    "model = DenseNet(num_classes=trndf.sirna.max()+1, num_channels = 6)\n",
    "model.to(device)\n",
    "criterion = nn.CrossEntropyLoss()\n",
    "optimizer = torch.optim.Adam(model.parameters(), lr=lr)\n",
    "model, optimizer = amp.initialize(model, optimizer, opt_level=\"O2\", keep_batchnorm_fp32=False, loss_scale=\"dynamic\")\n",
    "scheduler_cosine = torch.optim.lr_scheduler.CosineAnnealingLR(optimizer, EPOCHS)\n",
    "scheduler_warmup = GradualWarmupScheduler(optimizer, multiplier=lrmult, \\\n",
    "                                          total_epoch=warmup_epochs, \\\n",
    "                                          after_scheduler=scheduler_cosine)"
   ]
  },
  {
   "cell_type": "code",
   "execution_count": 137,
   "metadata": {},
   "outputs": [],
   "source": [
    "@torch.no_grad()\n",
    "def prediction(model, loader, emb=False):\n",
    "    probs = []\n",
    "    for x, _ in loader:\n",
    "        x = x.to(device)\n",
    "        output = model(x, emb)\n",
    "        if not emb:\n",
    "            output = torch.sigmoid(output.cpu()).numpy()\n",
    "        else:\n",
    "            output = output.cpu().numpy()\n",
    "        probs.append(output)\n",
    "    probs = np.concatenate(probs, 0)\n",
    "    return probs"
   ]
  },
  {
   "cell_type": "code",
   "execution_count": 91,
   "metadata": {},
   "outputs": [
    {
     "name": "stdout",
     "output_type": "stream",
     "text": [
      "Gradient overflow.  Skipping step, loss scaler 0 reducing loss scale to 32768.0\n",
      "Gradient overflow.  Skipping step, loss scaler 0 reducing loss scale to 16384.0\n",
      "Gradient overflow.  Skipping step, loss scaler 0 reducing loss scale to 8192.0\n",
      "Gradient overflow.  Skipping step, loss scaler 0 reducing loss scale to 4096.0\n",
      "Gradient overflow.  Skipping step, loss scaler 0 reducing loss scale to 2048.0\n",
      "Gradient overflow.  Skipping step, loss scaler 0 reducing loss scale to 1024.0\n",
      "Epoch 1 -> Train Loss: 7.4485 -> Val Acc: 0.0018 -> Lr: 0.00320 -> Time 2019-09-29 15:34:40.866843\n",
      "Epoch 2 -> Train Loss: 6.8480 -> Val Acc: 0.0025 -> Lr: 0.00560 -> Time 2019-09-29 15:38:36.032302\n",
      "Epoch 3 -> Train Loss: 6.7108 -> Val Acc: 0.0050 -> Lr: 0.00800 -> Time 2019-09-29 15:42:29.463284\n",
      "Epoch 4 -> Train Loss: 6.5740 -> Val Acc: 0.0036 -> Lr: 0.00800 -> Time 2019-09-29 15:46:24.706512\n",
      "Epoch 5 -> Train Loss: 6.4538 -> Val Acc: 0.0077 -> Lr: 0.00799 -> Time 2019-09-29 15:50:19.017840\n",
      "Epoch 6 -> Train Loss: 6.3151 -> Val Acc: 0.0090 -> Lr: 0.00795 -> Time 2019-09-29 15:54:12.837325\n",
      "Epoch 7 -> Train Loss: 6.1845 -> Val Acc: 0.0133 -> Lr: 0.00789 -> Time 2019-09-29 15:58:11.420930\n",
      "Epoch 8 -> Train Loss: 6.0573 -> Val Acc: 0.0156 -> Lr: 0.00780 -> Time 2019-09-29 16:02:09.324364\n",
      "Epoch 9 -> Train Loss: 5.9257 -> Val Acc: 0.0172 -> Lr: 0.00770 -> Time 2019-09-29 16:06:05.460537\n",
      "Epoch 10 -> Train Loss: 5.7978 -> Val Acc: 0.0172 -> Lr: 0.00756 -> Time 2019-09-29 16:10:00.410151\n",
      "Epoch 11 -> Train Loss: 5.6470 -> Val Acc: 0.0181 -> Lr: 0.00741 -> Time 2019-09-29 16:13:57.319497\n",
      "Epoch 12 -> Train Loss: 5.4988 -> Val Acc: 0.0248 -> Lr: 0.00724 -> Time 2019-09-29 16:17:52.947825\n",
      "Epoch 13 -> Train Loss: 5.3547 -> Val Acc: 0.0341 -> Lr: 0.00704 -> Time 2019-09-29 16:21:46.982468\n",
      "Epoch 14 -> Train Loss: 5.2043 -> Val Acc: 0.0325 -> Lr: 0.00683 -> Time 2019-09-29 16:25:41.586420\n",
      "Epoch 15 -> Train Loss: 5.0684 -> Val Acc: 0.0395 -> Lr: 0.00660 -> Time 2019-09-29 16:29:36.110393\n",
      "Epoch 16 -> Train Loss: 4.9341 -> Val Acc: 0.0422 -> Lr: 0.00635 -> Time 2019-09-29 16:33:30.582013\n",
      "Gradient overflow.  Skipping step, loss scaler 0 reducing loss scale to 2048.0\n",
      "Epoch 17 -> Train Loss: 4.7944 -> Val Acc: 0.0386 -> Lr: 0.00609 -> Time 2019-09-29 16:37:28.425338\n",
      "Epoch 18 -> Train Loss: 4.6402 -> Val Acc: 0.0429 -> Lr: 0.00582 -> Time 2019-09-29 16:41:26.126025\n",
      "Epoch 19 -> Train Loss: 4.5090 -> Val Acc: 0.0418 -> Lr: 0.00553 -> Time 2019-09-29 16:45:21.007761\n",
      "Epoch 20 -> Train Loss: 4.3919 -> Val Acc: 0.0472 -> Lr: 0.00524 -> Time 2019-09-29 16:49:15.188539\n",
      "Epoch 21 -> Train Loss: 4.2570 -> Val Acc: 0.0463 -> Lr: 0.00493 -> Time 2019-09-29 16:53:10.378175\n",
      "Epoch 22 -> Train Loss: 4.1148 -> Val Acc: 0.0549 -> Lr: 0.00463 -> Time 2019-09-29 16:57:04.776395\n",
      "Epoch 23 -> Train Loss: 3.9705 -> Val Acc: 0.0501 -> Lr: 0.00431 -> Time 2019-09-29 17:00:59.079842\n",
      "Epoch 24 -> Train Loss: 3.8473 -> Val Acc: 0.0641 -> Lr: 0.00400 -> Time 2019-09-29 17:04:52.411106\n",
      "Epoch 25 -> Train Loss: 3.7169 -> Val Acc: 0.0736 -> Lr: 0.00369 -> Time 2019-09-29 17:08:48.113558\n",
      "Epoch 26 -> Train Loss: 3.5762 -> Val Acc: 0.0512 -> Lr: 0.00337 -> Time 2019-09-29 17:12:42.580379\n",
      "Epoch 27 -> Train Loss: 3.4531 -> Val Acc: 0.0664 -> Lr: 0.00307 -> Time 2019-09-29 17:16:36.427600\n",
      "Epoch 28 -> Train Loss: 3.3093 -> Val Acc: 0.0709 -> Lr: 0.00276 -> Time 2019-09-29 17:20:30.350864\n",
      "Epoch 29 -> Train Loss: 3.1850 -> Val Acc: 0.0682 -> Lr: 0.00247 -> Time 2019-09-29 17:24:24.422630\n",
      "Gradient overflow.  Skipping step, loss scaler 0 reducing loss scale to 4096.0\n",
      "Epoch 30 -> Train Loss: 3.0561 -> Val Acc: 0.0840 -> Lr: 0.00218 -> Time 2019-09-29 17:28:18.265804\n",
      "Epoch 31 -> Train Loss: 2.9256 -> Val Acc: 0.0801 -> Lr: 0.00191 -> Time 2019-09-29 17:32:12.669144\n",
      "Epoch 32 -> Train Loss: 2.8180 -> Val Acc: 0.0824 -> Lr: 0.00165 -> Time 2019-09-29 17:36:08.109215\n",
      "Epoch 33 -> Train Loss: 2.7061 -> Val Acc: 0.0779 -> Lr: 0.00140 -> Time 2019-09-29 17:40:03.292666\n",
      "Epoch 34 -> Train Loss: 2.6298 -> Val Acc: 0.0740 -> Lr: 0.00117 -> Time 2019-09-29 17:43:56.537296\n",
      "Gradient overflow.  Skipping step, loss scaler 0 reducing loss scale to 2048.0\n",
      "Epoch 35 -> Train Loss: 2.5243 -> Val Acc: 0.0682 -> Lr: 0.00096 -> Time 2019-09-29 17:47:51.814080\n",
      "Epoch 36 -> Train Loss: 2.4305 -> Val Acc: 0.0763 -> Lr: 0.00076 -> Time 2019-09-29 17:51:49.943784\n",
      "Epoch 37 -> Train Loss: 2.3491 -> Val Acc: 0.0770 -> Lr: 0.00059 -> Time 2019-09-29 17:55:46.338034\n",
      "Epoch 38 -> Train Loss: 2.2831 -> Val Acc: 0.0740 -> Lr: 0.00044 -> Time 2019-09-29 17:59:41.202360\n",
      "Epoch 39 -> Train Loss: 2.2467 -> Val Acc: 0.0711 -> Lr: 0.00030 -> Time 2019-09-29 18:03:34.992190\n",
      "Epoch 40 -> Train Loss: 2.1984 -> Val Acc: 0.0819 -> Lr: 0.00020 -> Time 2019-09-29 18:07:28.384761\n"
     ]
    }
   ],
   "source": [
    "for epoch in range(EPOCHS):\n",
    "    tloss = 0.\n",
    "    model.train()\n",
    "    scheduler_warmup.step()\n",
    "    for t, (x, y) in enumerate(trnloader): \n",
    "        optimizer.zero_grad()\n",
    "        x = x.to(device)\n",
    "        y = y.cuda()\n",
    "        x = torch.autograd.Variable(x, requires_grad=True)#.half()\n",
    "        y = torch.autograd.Variable(y)\n",
    "        out = model(x)\n",
    "        loss = criterion(out, y)\n",
    "        with amp.scale_loss(loss, optimizer) as scaled_loss:\n",
    "            scaled_loss.backward()\n",
    "        optimizer.step()\n",
    "        tloss += loss.item() \n",
    "        del loss, out, y, x\n",
    "    lrlog = scheduler_warmup.get_lr()[0]    \n",
    "    model.eval()\n",
    "    preds = prediction(model, valloader)\n",
    "    val_accuracy = (valdf.sirna.values == preds.argmax(1)).mean()\n",
    "    print('Epoch {} -> Train Loss: {:.4f} -> Val Acc: {:.4f} -> Lr: {:.5f} -> Time {}'.format(epoch+1, \\\n",
    "                                                        tloss/len(trnloader), val_accuracy, lrlog, \\\n",
    "                                                        datetime.now()))\n"
   ]
  },
  {
   "cell_type": "markdown",
   "metadata": {},
   "source": [
    "## Save model to disk"
   ]
  },
  {
   "cell_type": "code",
   "execution_count": 163,
   "metadata": {},
   "outputs": [],
   "source": [
    "output_model_file = \"recursion_model.bin\"\n",
    "torch.save(model.state_dict(), output_model_file)"
   ]
  },
  {
   "cell_type": "markdown",
   "metadata": {},
   "source": [
    "Download model weights [here](./recursion_model.bin)"
   ]
  },
  {
   "cell_type": "markdown",
   "metadata": {},
   "source": [
    "## Now please implement test time augmentation to make predictions"
   ]
  },
  {
   "cell_type": "code",
   "execution_count": null,
   "metadata": {},
   "outputs": [],
   "source": [
    "## Load up the model\n",
    "# model.load_state_dict(torch.load(os.path.join(path_data, \"recursion_model.bin\")))\n",
    "# model.to(device)\n",
    "# for param in model.parameters():\n",
    "#     param.requires_grad = False\n",
    "# model.eval()\n",
    "# ...."
   ]
  }
 ],
 "metadata": {
  "kernelspec": {
   "display_name": "Python 3",
   "language": "python",
   "name": "python3"
  },
  "language_info": {
   "codemirror_mode": {
    "name": "ipython",
    "version": 3
   },
   "file_extension": ".py",
   "mimetype": "text/x-python",
   "name": "python",
   "nbconvert_exporter": "python",
   "pygments_lexer": "ipython3",
   "version": "3.6.9"
  }
 },
 "nbformat": 4,
 "nbformat_minor": 1
}
